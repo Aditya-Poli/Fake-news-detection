{
  "metadata": {
    "kernelspec": {
      "language": "python",
      "display_name": "Python 3",
      "name": "python3"
    },
    "language_info": {
      "name": "python",
      "version": "3.7.12",
      "mimetype": "text/x-python",
      "codemirror_mode": {
        "name": "ipython",
        "version": 3
      },
      "pygments_lexer": "ipython3",
      "nbconvert_exporter": "python",
      "file_extension": ".py"
    },
    "colab": {
      "provenance": []
    }
  },
  "nbformat_minor": 0,
  "nbformat": 4,
  "cells": [
    {
      "cell_type": "code",
      "source": [
        "#importing all the necessary libraries\n",
        "import numpy as np\n",
        "import pandas as pd\n",
        "import matplotlib.pyplot as plt\n",
        "%matplotlib inline\n",
        "import seaborn as sns\n",
        "import re\n",
        "from nltk.corpus import stopwords"
      ],
      "metadata": {
        "id": "8c1085f6",
        "execution": {
          "iopub.status.busy": "2023-03-05T07:52:47.101652Z",
          "iopub.execute_input": "2023-03-05T07:52:47.102103Z",
          "iopub.status.idle": "2023-03-05T07:52:49.229406Z",
          "shell.execute_reply.started": "2023-03-05T07:52:47.102015Z",
          "shell.execute_reply": "2023-03-05T07:52:49.228009Z"
        },
        "trusted": true
      },
      "execution_count": 183,
      "outputs": []
    },
    {
      "cell_type": "code",
      "source": [
        "df_test=pd.read_csv('/content/drive/MyDrive/archive/test.csv')\n",
        "df_train=pd.read_csv('/content/drive/MyDrive/archive/train.csv')\n"
      ],
      "metadata": {
        "id": "d829cb06",
        "execution": {
          "iopub.status.busy": "2023-03-05T07:55:42.709092Z",
          "iopub.execute_input": "2023-03-05T07:55:42.709605Z",
          "iopub.status.idle": "2023-03-05T07:55:45.659208Z",
          "shell.execute_reply.started": "2023-03-05T07:55:42.709560Z",
          "shell.execute_reply": "2023-03-05T07:55:45.657777Z"
        },
        "trusted": true
      },
      "execution_count": 184,
      "outputs": []
    },
    {
      "cell_type": "code",
      "source": [
        "df_train.head(150)"
      ],
      "metadata": {
        "id": "154967da",
        "outputId": "4126793e-4b41-4112-d82c-c1a0e4c2dc77",
        "execution": {
          "iopub.status.busy": "2023-03-05T07:55:54.047918Z",
          "iopub.execute_input": "2023-03-05T07:55:54.048376Z",
          "iopub.status.idle": "2023-03-05T07:55:54.079382Z",
          "shell.execute_reply.started": "2023-03-05T07:55:54.048337Z",
          "shell.execute_reply": "2023-03-05T07:55:54.077765Z"
        },
        "trusted": true,
        "colab": {
          "base_uri": "https://localhost:8080/",
          "height": 13632
        }
      },
      "execution_count": 185,
      "outputs": [
        {
          "output_type": "execute_result",
          "data": {
            "text/plain": [
              "      id                                              title  \\\n",
              "0      0  House Dem Aide: We Didn’t Even See Comey’s Let...   \n",
              "1      1  FLYNN: Hillary Clinton, Big Woman on Campus - ...   \n",
              "2      2                  Why the Truth Might Get You Fired   \n",
              "3      3  15 Civilians Killed In Single US Airstrike Hav...   \n",
              "4      4  Iranian woman jailed for fictional unpublished...   \n",
              "..   ...                                                ...   \n",
              "145  145  FBI Finds Previously Unseen Hillary Clinton Em...   \n",
              "146  146  2 Years After This American Journalist Was Kil...   \n",
              "147  147  Report: Illegal Aliens Forego Food Stamps to S...   \n",
              "148  148  Make Netherlands Great Again! Hahaha It's Spre...   \n",
              "149  149  Four killed, 10 Injured in Jerusalem Truck-Ram...   \n",
              "\n",
              "                       author  \\\n",
              "0               Darrell Lucus   \n",
              "1             Daniel J. Flynn   \n",
              "2          Consortiumnews.com   \n",
              "3             Jessica Purkiss   \n",
              "4              Howard Portnoy   \n",
              "..                        ...   \n",
              "145                Zero Hedge   \n",
              "146                  Starkman   \n",
              "147               AWR Hawkins   \n",
              "148  The European Union Times   \n",
              "149               Aaron Klein   \n",
              "\n",
              "                                                  text  label  \n",
              "0    House Dem Aide: We Didn’t Even See Comey’s Let...      1  \n",
              "1    Ever get the feeling your life circles the rou...      0  \n",
              "2    Why the Truth Might Get You Fired October 29, ...      1  \n",
              "3    Videos 15 Civilians Killed In Single US Airstr...      1  \n",
              "4    Print \\nAn Iranian woman has been sentenced to...      1  \n",
              "..                                                 ...    ...  \n",
              "145  \\nCrushing the hope-filled “it’s just a backup...      1  \n",
              "146  Serena Shim is an American citizen of Lebanese...      1  \n",
              "147  Illegal aliens in San Francisco have reportedl...      0  \n",
              "148  \\nGeert Wilders is the founder and leader of t...      1  \n",
              "149  Four Israeli soldiers were murdered and at lea...      0  \n",
              "\n",
              "[150 rows x 5 columns]"
            ],
            "text/html": [
              "\n",
              "  <div id=\"df-3f834db4-45b3-45d0-a5b0-7a8360f8c7be\">\n",
              "    <div class=\"colab-df-container\">\n",
              "      <div>\n",
              "<style scoped>\n",
              "    .dataframe tbody tr th:only-of-type {\n",
              "        vertical-align: middle;\n",
              "    }\n",
              "\n",
              "    .dataframe tbody tr th {\n",
              "        vertical-align: top;\n",
              "    }\n",
              "\n",
              "    .dataframe thead th {\n",
              "        text-align: right;\n",
              "    }\n",
              "</style>\n",
              "<table border=\"1\" class=\"dataframe\">\n",
              "  <thead>\n",
              "    <tr style=\"text-align: right;\">\n",
              "      <th></th>\n",
              "      <th>id</th>\n",
              "      <th>title</th>\n",
              "      <th>author</th>\n",
              "      <th>text</th>\n",
              "      <th>label</th>\n",
              "    </tr>\n",
              "  </thead>\n",
              "  <tbody>\n",
              "    <tr>\n",
              "      <th>0</th>\n",
              "      <td>0</td>\n",
              "      <td>House Dem Aide: We Didn’t Even See Comey’s Let...</td>\n",
              "      <td>Darrell Lucus</td>\n",
              "      <td>House Dem Aide: We Didn’t Even See Comey’s Let...</td>\n",
              "      <td>1</td>\n",
              "    </tr>\n",
              "    <tr>\n",
              "      <th>1</th>\n",
              "      <td>1</td>\n",
              "      <td>FLYNN: Hillary Clinton, Big Woman on Campus - ...</td>\n",
              "      <td>Daniel J. Flynn</td>\n",
              "      <td>Ever get the feeling your life circles the rou...</td>\n",
              "      <td>0</td>\n",
              "    </tr>\n",
              "    <tr>\n",
              "      <th>2</th>\n",
              "      <td>2</td>\n",
              "      <td>Why the Truth Might Get You Fired</td>\n",
              "      <td>Consortiumnews.com</td>\n",
              "      <td>Why the Truth Might Get You Fired October 29, ...</td>\n",
              "      <td>1</td>\n",
              "    </tr>\n",
              "    <tr>\n",
              "      <th>3</th>\n",
              "      <td>3</td>\n",
              "      <td>15 Civilians Killed In Single US Airstrike Hav...</td>\n",
              "      <td>Jessica Purkiss</td>\n",
              "      <td>Videos 15 Civilians Killed In Single US Airstr...</td>\n",
              "      <td>1</td>\n",
              "    </tr>\n",
              "    <tr>\n",
              "      <th>4</th>\n",
              "      <td>4</td>\n",
              "      <td>Iranian woman jailed for fictional unpublished...</td>\n",
              "      <td>Howard Portnoy</td>\n",
              "      <td>Print \\nAn Iranian woman has been sentenced to...</td>\n",
              "      <td>1</td>\n",
              "    </tr>\n",
              "    <tr>\n",
              "      <th>...</th>\n",
              "      <td>...</td>\n",
              "      <td>...</td>\n",
              "      <td>...</td>\n",
              "      <td>...</td>\n",
              "      <td>...</td>\n",
              "    </tr>\n",
              "    <tr>\n",
              "      <th>145</th>\n",
              "      <td>145</td>\n",
              "      <td>FBI Finds Previously Unseen Hillary Clinton Em...</td>\n",
              "      <td>Zero Hedge</td>\n",
              "      <td>\\nCrushing the hope-filled “it’s just a backup...</td>\n",
              "      <td>1</td>\n",
              "    </tr>\n",
              "    <tr>\n",
              "      <th>146</th>\n",
              "      <td>146</td>\n",
              "      <td>2 Years After This American Journalist Was Kil...</td>\n",
              "      <td>Starkman</td>\n",
              "      <td>Serena Shim is an American citizen of Lebanese...</td>\n",
              "      <td>1</td>\n",
              "    </tr>\n",
              "    <tr>\n",
              "      <th>147</th>\n",
              "      <td>147</td>\n",
              "      <td>Report: Illegal Aliens Forego Food Stamps to S...</td>\n",
              "      <td>AWR Hawkins</td>\n",
              "      <td>Illegal aliens in San Francisco have reportedl...</td>\n",
              "      <td>0</td>\n",
              "    </tr>\n",
              "    <tr>\n",
              "      <th>148</th>\n",
              "      <td>148</td>\n",
              "      <td>Make Netherlands Great Again! Hahaha It's Spre...</td>\n",
              "      <td>The European Union Times</td>\n",
              "      <td>\\nGeert Wilders is the founder and leader of t...</td>\n",
              "      <td>1</td>\n",
              "    </tr>\n",
              "    <tr>\n",
              "      <th>149</th>\n",
              "      <td>149</td>\n",
              "      <td>Four killed, 10 Injured in Jerusalem Truck-Ram...</td>\n",
              "      <td>Aaron Klein</td>\n",
              "      <td>Four Israeli soldiers were murdered and at lea...</td>\n",
              "      <td>0</td>\n",
              "    </tr>\n",
              "  </tbody>\n",
              "</table>\n",
              "<p>150 rows × 5 columns</p>\n",
              "</div>\n",
              "      <button class=\"colab-df-convert\" onclick=\"convertToInteractive('df-3f834db4-45b3-45d0-a5b0-7a8360f8c7be')\"\n",
              "              title=\"Convert this dataframe to an interactive table.\"\n",
              "              style=\"display:none;\">\n",
              "        \n",
              "  <svg xmlns=\"http://www.w3.org/2000/svg\" height=\"24px\"viewBox=\"0 0 24 24\"\n",
              "       width=\"24px\">\n",
              "    <path d=\"M0 0h24v24H0V0z\" fill=\"none\"/>\n",
              "    <path d=\"M18.56 5.44l.94 2.06.94-2.06 2.06-.94-2.06-.94-.94-2.06-.94 2.06-2.06.94zm-11 1L8.5 8.5l.94-2.06 2.06-.94-2.06-.94L8.5 2.5l-.94 2.06-2.06.94zm10 10l.94 2.06.94-2.06 2.06-.94-2.06-.94-.94-2.06-.94 2.06-2.06.94z\"/><path d=\"M17.41 7.96l-1.37-1.37c-.4-.4-.92-.59-1.43-.59-.52 0-1.04.2-1.43.59L10.3 9.45l-7.72 7.72c-.78.78-.78 2.05 0 2.83L4 21.41c.39.39.9.59 1.41.59.51 0 1.02-.2 1.41-.59l7.78-7.78 2.81-2.81c.8-.78.8-2.07 0-2.86zM5.41 20L4 18.59l7.72-7.72 1.47 1.35L5.41 20z\"/>\n",
              "  </svg>\n",
              "      </button>\n",
              "      \n",
              "  <style>\n",
              "    .colab-df-container {\n",
              "      display:flex;\n",
              "      flex-wrap:wrap;\n",
              "      gap: 12px;\n",
              "    }\n",
              "\n",
              "    .colab-df-convert {\n",
              "      background-color: #E8F0FE;\n",
              "      border: none;\n",
              "      border-radius: 50%;\n",
              "      cursor: pointer;\n",
              "      display: none;\n",
              "      fill: #1967D2;\n",
              "      height: 32px;\n",
              "      padding: 0 0 0 0;\n",
              "      width: 32px;\n",
              "    }\n",
              "\n",
              "    .colab-df-convert:hover {\n",
              "      background-color: #E2EBFA;\n",
              "      box-shadow: 0px 1px 2px rgba(60, 64, 67, 0.3), 0px 1px 3px 1px rgba(60, 64, 67, 0.15);\n",
              "      fill: #174EA6;\n",
              "    }\n",
              "\n",
              "    [theme=dark] .colab-df-convert {\n",
              "      background-color: #3B4455;\n",
              "      fill: #D2E3FC;\n",
              "    }\n",
              "\n",
              "    [theme=dark] .colab-df-convert:hover {\n",
              "      background-color: #434B5C;\n",
              "      box-shadow: 0px 1px 3px 1px rgba(0, 0, 0, 0.15);\n",
              "      filter: drop-shadow(0px 1px 2px rgba(0, 0, 0, 0.3));\n",
              "      fill: #FFFFFF;\n",
              "    }\n",
              "  </style>\n",
              "\n",
              "      <script>\n",
              "        const buttonEl =\n",
              "          document.querySelector('#df-3f834db4-45b3-45d0-a5b0-7a8360f8c7be button.colab-df-convert');\n",
              "        buttonEl.style.display =\n",
              "          google.colab.kernel.accessAllowed ? 'block' : 'none';\n",
              "\n",
              "        async function convertToInteractive(key) {\n",
              "          const element = document.querySelector('#df-3f834db4-45b3-45d0-a5b0-7a8360f8c7be');\n",
              "          const dataTable =\n",
              "            await google.colab.kernel.invokeFunction('convertToInteractive',\n",
              "                                                     [key], {});\n",
              "          if (!dataTable) return;\n",
              "\n",
              "          const docLinkHtml = 'Like what you see? Visit the ' +\n",
              "            '<a target=\"_blank\" href=https://colab.research.google.com/notebooks/data_table.ipynb>data table notebook</a>'\n",
              "            + ' to learn more about interactive tables.';\n",
              "          element.innerHTML = '';\n",
              "          dataTable['output_type'] = 'display_data';\n",
              "          await google.colab.output.renderOutput(dataTable, element);\n",
              "          const docLink = document.createElement('div');\n",
              "          docLink.innerHTML = docLinkHtml;\n",
              "          element.appendChild(docLink);\n",
              "        }\n",
              "      </script>\n",
              "    </div>\n",
              "  </div>\n",
              "  "
            ]
          },
          "metadata": {},
          "execution_count": 185
        }
      ]
    },
    {
      "cell_type": "code",
      "source": [
        "df_test.head(150)"
      ],
      "metadata": {
        "id": "12ae2c00",
        "outputId": "bdd6b4fc-41d7-4a83-d030-5283740c15b6",
        "execution": {
          "iopub.status.busy": "2023-03-05T07:58:08.906151Z",
          "iopub.execute_input": "2023-03-05T07:58:08.906770Z",
          "iopub.status.idle": "2023-03-05T07:58:08.925166Z",
          "shell.execute_reply.started": "2023-03-05T07:58:08.906727Z",
          "shell.execute_reply": "2023-03-05T07:58:08.923324Z"
        },
        "trusted": true,
        "colab": {
          "base_uri": "https://localhost:8080/",
          "height": 423
        }
      },
      "execution_count": 186,
      "outputs": [
        {
          "output_type": "execute_result",
          "data": {
            "text/plain": [
              "        id                                              title  \\\n",
              "0    20800  Specter of Trump Loosens Tongues, if Not Purse...   \n",
              "1    20801  Russian warships ready to strike terrorists ne...   \n",
              "2    20802  #NoDAPL: Native American Leaders Vow to Stay A...   \n",
              "3    20803  Tim Tebow Will Attempt Another Comeback, This ...   \n",
              "4    20804                    Keiser Report: Meme Wars (E995)   \n",
              "..     ...                                                ...   \n",
              "145  20945  Foreigners Have Long Mined Indonesia, but Now ...   \n",
              "146  20946  Syrian War Report – November 15, 2016: 500 Mil...   \n",
              "147  20947  Nuclear Reactor in Norway Leaks Radioactive Io...   \n",
              "148  20948  Earthquake Leaves a Trail of Destruction in Ec...   \n",
              "149  20949  Refugees Discover 2 Americas: One That Hates, ...   \n",
              "\n",
              "                          author  \\\n",
              "0               David Streitfeld   \n",
              "1                            NaN   \n",
              "2                  Common Dreams   \n",
              "3                  Daniel Victor   \n",
              "4        Truth Broadcast Network   \n",
              "..                           ...   \n",
              "145                    Jon Emont   \n",
              "146                    The Saker   \n",
              "147                        admin   \n",
              "148  Maggy Ayala and Kirk Semple   \n",
              "149                 Adeel Hassan   \n",
              "\n",
              "                                                  text  \n",
              "0    PALO ALTO, Calif.  —   After years of scorning...  \n",
              "1    Russian warships ready to strike terrorists ne...  \n",
              "2    Videos #NoDAPL: Native American Leaders Vow to...  \n",
              "3    If at first you don’t succeed, try a different...  \n",
              "4    42 mins ago 1 Views 0 Comments 0 Likes 'For th...  \n",
              "..                                                 ...  \n",
              "145  JAKARTA, Indonesia  —   Crowned with spiky fea...  \n",
              "146  Leave a Reply Click here to get more info on f...  \n",
              "147  Prison Planet.com October 26, 2016 \\nOne of No...  \n",
              "148  PORTOVIEJO, Ecuador  —   The rumbling had ende...  \n",
              "149  DUNDALK, Md.  —   Ra’ad and Hutham Lalqaraghul...  \n",
              "\n",
              "[150 rows x 4 columns]"
            ],
            "text/html": [
              "\n",
              "  <div id=\"df-4418b2df-2cc5-4d5a-aa1a-cc820810d268\">\n",
              "    <div class=\"colab-df-container\">\n",
              "      <div>\n",
              "<style scoped>\n",
              "    .dataframe tbody tr th:only-of-type {\n",
              "        vertical-align: middle;\n",
              "    }\n",
              "\n",
              "    .dataframe tbody tr th {\n",
              "        vertical-align: top;\n",
              "    }\n",
              "\n",
              "    .dataframe thead th {\n",
              "        text-align: right;\n",
              "    }\n",
              "</style>\n",
              "<table border=\"1\" class=\"dataframe\">\n",
              "  <thead>\n",
              "    <tr style=\"text-align: right;\">\n",
              "      <th></th>\n",
              "      <th>id</th>\n",
              "      <th>title</th>\n",
              "      <th>author</th>\n",
              "      <th>text</th>\n",
              "    </tr>\n",
              "  </thead>\n",
              "  <tbody>\n",
              "    <tr>\n",
              "      <th>0</th>\n",
              "      <td>20800</td>\n",
              "      <td>Specter of Trump Loosens Tongues, if Not Purse...</td>\n",
              "      <td>David Streitfeld</td>\n",
              "      <td>PALO ALTO, Calif.  —   After years of scorning...</td>\n",
              "    </tr>\n",
              "    <tr>\n",
              "      <th>1</th>\n",
              "      <td>20801</td>\n",
              "      <td>Russian warships ready to strike terrorists ne...</td>\n",
              "      <td>NaN</td>\n",
              "      <td>Russian warships ready to strike terrorists ne...</td>\n",
              "    </tr>\n",
              "    <tr>\n",
              "      <th>2</th>\n",
              "      <td>20802</td>\n",
              "      <td>#NoDAPL: Native American Leaders Vow to Stay A...</td>\n",
              "      <td>Common Dreams</td>\n",
              "      <td>Videos #NoDAPL: Native American Leaders Vow to...</td>\n",
              "    </tr>\n",
              "    <tr>\n",
              "      <th>3</th>\n",
              "      <td>20803</td>\n",
              "      <td>Tim Tebow Will Attempt Another Comeback, This ...</td>\n",
              "      <td>Daniel Victor</td>\n",
              "      <td>If at first you don’t succeed, try a different...</td>\n",
              "    </tr>\n",
              "    <tr>\n",
              "      <th>4</th>\n",
              "      <td>20804</td>\n",
              "      <td>Keiser Report: Meme Wars (E995)</td>\n",
              "      <td>Truth Broadcast Network</td>\n",
              "      <td>42 mins ago 1 Views 0 Comments 0 Likes 'For th...</td>\n",
              "    </tr>\n",
              "    <tr>\n",
              "      <th>...</th>\n",
              "      <td>...</td>\n",
              "      <td>...</td>\n",
              "      <td>...</td>\n",
              "      <td>...</td>\n",
              "    </tr>\n",
              "    <tr>\n",
              "      <th>145</th>\n",
              "      <td>20945</td>\n",
              "      <td>Foreigners Have Long Mined Indonesia, but Now ...</td>\n",
              "      <td>Jon Emont</td>\n",
              "      <td>JAKARTA, Indonesia  —   Crowned with spiky fea...</td>\n",
              "    </tr>\n",
              "    <tr>\n",
              "      <th>146</th>\n",
              "      <td>20946</td>\n",
              "      <td>Syrian War Report – November 15, 2016: 500 Mil...</td>\n",
              "      <td>The Saker</td>\n",
              "      <td>Leave a Reply Click here to get more info on f...</td>\n",
              "    </tr>\n",
              "    <tr>\n",
              "      <th>147</th>\n",
              "      <td>20947</td>\n",
              "      <td>Nuclear Reactor in Norway Leaks Radioactive Io...</td>\n",
              "      <td>admin</td>\n",
              "      <td>Prison Planet.com October 26, 2016 \\nOne of No...</td>\n",
              "    </tr>\n",
              "    <tr>\n",
              "      <th>148</th>\n",
              "      <td>20948</td>\n",
              "      <td>Earthquake Leaves a Trail of Destruction in Ec...</td>\n",
              "      <td>Maggy Ayala and Kirk Semple</td>\n",
              "      <td>PORTOVIEJO, Ecuador  —   The rumbling had ende...</td>\n",
              "    </tr>\n",
              "    <tr>\n",
              "      <th>149</th>\n",
              "      <td>20949</td>\n",
              "      <td>Refugees Discover 2 Americas: One That Hates, ...</td>\n",
              "      <td>Adeel Hassan</td>\n",
              "      <td>DUNDALK, Md.  —   Ra’ad and Hutham Lalqaraghul...</td>\n",
              "    </tr>\n",
              "  </tbody>\n",
              "</table>\n",
              "<p>150 rows × 4 columns</p>\n",
              "</div>\n",
              "      <button class=\"colab-df-convert\" onclick=\"convertToInteractive('df-4418b2df-2cc5-4d5a-aa1a-cc820810d268')\"\n",
              "              title=\"Convert this dataframe to an interactive table.\"\n",
              "              style=\"display:none;\">\n",
              "        \n",
              "  <svg xmlns=\"http://www.w3.org/2000/svg\" height=\"24px\"viewBox=\"0 0 24 24\"\n",
              "       width=\"24px\">\n",
              "    <path d=\"M0 0h24v24H0V0z\" fill=\"none\"/>\n",
              "    <path d=\"M18.56 5.44l.94 2.06.94-2.06 2.06-.94-2.06-.94-.94-2.06-.94 2.06-2.06.94zm-11 1L8.5 8.5l.94-2.06 2.06-.94-2.06-.94L8.5 2.5l-.94 2.06-2.06.94zm10 10l.94 2.06.94-2.06 2.06-.94-2.06-.94-.94-2.06-.94 2.06-2.06.94z\"/><path d=\"M17.41 7.96l-1.37-1.37c-.4-.4-.92-.59-1.43-.59-.52 0-1.04.2-1.43.59L10.3 9.45l-7.72 7.72c-.78.78-.78 2.05 0 2.83L4 21.41c.39.39.9.59 1.41.59.51 0 1.02-.2 1.41-.59l7.78-7.78 2.81-2.81c.8-.78.8-2.07 0-2.86zM5.41 20L4 18.59l7.72-7.72 1.47 1.35L5.41 20z\"/>\n",
              "  </svg>\n",
              "      </button>\n",
              "      \n",
              "  <style>\n",
              "    .colab-df-container {\n",
              "      display:flex;\n",
              "      flex-wrap:wrap;\n",
              "      gap: 12px;\n",
              "    }\n",
              "\n",
              "    .colab-df-convert {\n",
              "      background-color: #E8F0FE;\n",
              "      border: none;\n",
              "      border-radius: 50%;\n",
              "      cursor: pointer;\n",
              "      display: none;\n",
              "      fill: #1967D2;\n",
              "      height: 32px;\n",
              "      padding: 0 0 0 0;\n",
              "      width: 32px;\n",
              "    }\n",
              "\n",
              "    .colab-df-convert:hover {\n",
              "      background-color: #E2EBFA;\n",
              "      box-shadow: 0px 1px 2px rgba(60, 64, 67, 0.3), 0px 1px 3px 1px rgba(60, 64, 67, 0.15);\n",
              "      fill: #174EA6;\n",
              "    }\n",
              "\n",
              "    [theme=dark] .colab-df-convert {\n",
              "      background-color: #3B4455;\n",
              "      fill: #D2E3FC;\n",
              "    }\n",
              "\n",
              "    [theme=dark] .colab-df-convert:hover {\n",
              "      background-color: #434B5C;\n",
              "      box-shadow: 0px 1px 3px 1px rgba(0, 0, 0, 0.15);\n",
              "      filter: drop-shadow(0px 1px 2px rgba(0, 0, 0, 0.3));\n",
              "      fill: #FFFFFF;\n",
              "    }\n",
              "  </style>\n",
              "\n",
              "      <script>\n",
              "        const buttonEl =\n",
              "          document.querySelector('#df-4418b2df-2cc5-4d5a-aa1a-cc820810d268 button.colab-df-convert');\n",
              "        buttonEl.style.display =\n",
              "          google.colab.kernel.accessAllowed ? 'block' : 'none';\n",
              "\n",
              "        async function convertToInteractive(key) {\n",
              "          const element = document.querySelector('#df-4418b2df-2cc5-4d5a-aa1a-cc820810d268');\n",
              "          const dataTable =\n",
              "            await google.colab.kernel.invokeFunction('convertToInteractive',\n",
              "                                                     [key], {});\n",
              "          if (!dataTable) return;\n",
              "\n",
              "          const docLinkHtml = 'Like what you see? Visit the ' +\n",
              "            '<a target=\"_blank\" href=https://colab.research.google.com/notebooks/data_table.ipynb>data table notebook</a>'\n",
              "            + ' to learn more about interactive tables.';\n",
              "          element.innerHTML = '';\n",
              "          dataTable['output_type'] = 'display_data';\n",
              "          await google.colab.output.renderOutput(dataTable, element);\n",
              "          const docLink = document.createElement('div');\n",
              "          docLink.innerHTML = docLinkHtml;\n",
              "          element.appendChild(docLink);\n",
              "        }\n",
              "      </script>\n",
              "    </div>\n",
              "  </div>\n",
              "  "
            ]
          },
          "metadata": {},
          "execution_count": 186
        }
      ]
    },
    {
      "cell_type": "code",
      "source": [
        "df_train.info()"
      ],
      "metadata": {
        "id": "98565306",
        "outputId": "2d224896-c397-44a0-d73d-e248ababa80a",
        "execution": {
          "iopub.status.busy": "2023-03-05T08:00:14.465551Z",
          "iopub.execute_input": "2023-03-05T08:00:14.466042Z",
          "iopub.status.idle": "2023-03-05T08:00:14.509314Z",
          "shell.execute_reply.started": "2023-03-05T08:00:14.466002Z",
          "shell.execute_reply": "2023-03-05T08:00:14.507811Z"
        },
        "trusted": true,
        "colab": {
          "base_uri": "https://localhost:8080/"
        }
      },
      "execution_count": 187,
      "outputs": [
        {
          "output_type": "stream",
          "name": "stdout",
          "text": [
            "<class 'pandas.core.frame.DataFrame'>\n",
            "RangeIndex: 20800 entries, 0 to 20799\n",
            "Data columns (total 5 columns):\n",
            " #   Column  Non-Null Count  Dtype \n",
            "---  ------  --------------  ----- \n",
            " 0   id      20800 non-null  int64 \n",
            " 1   title   20242 non-null  object\n",
            " 2   author  18843 non-null  object\n",
            " 3   text    20761 non-null  object\n",
            " 4   label   20800 non-null  int64 \n",
            "dtypes: int64(2), object(3)\n",
            "memory usage: 812.6+ KB\n"
          ]
        }
      ]
    },
    {
      "cell_type": "code",
      "source": [
        "#removing null values\n",
        "df_train.isnull().sum()"
      ],
      "metadata": {
        "id": "2cbe20af",
        "outputId": "a3b7501f-6c0b-419a-c540-5ecb7338baf9",
        "execution": {
          "iopub.status.busy": "2023-03-05T08:00:38.900265Z",
          "iopub.execute_input": "2023-03-05T08:00:38.900711Z",
          "iopub.status.idle": "2023-03-05T08:00:38.921675Z",
          "shell.execute_reply.started": "2023-03-05T08:00:38.900672Z",
          "shell.execute_reply": "2023-03-05T08:00:38.919696Z"
        },
        "trusted": true,
        "colab": {
          "base_uri": "https://localhost:8080/"
        }
      },
      "execution_count": 188,
      "outputs": [
        {
          "output_type": "execute_result",
          "data": {
            "text/plain": [
              "id           0\n",
              "title      558\n",
              "author    1957\n",
              "text        39\n",
              "label        0\n",
              "dtype: int64"
            ]
          },
          "metadata": {},
          "execution_count": 188
        }
      ]
    },
    {
      "cell_type": "code",
      "source": [
        "df_train=df_train.fillna(\" \")"
      ],
      "metadata": {
        "id": "22bf2c75",
        "execution": {
          "iopub.status.busy": "2023-03-05T08:00:50.968360Z",
          "iopub.execute_input": "2023-03-05T08:00:50.968879Z",
          "iopub.status.idle": "2023-03-05T08:00:50.986920Z",
          "shell.execute_reply.started": "2023-03-05T08:00:50.968839Z",
          "shell.execute_reply": "2023-03-05T08:00:50.985343Z"
        },
        "trusted": true
      },
      "execution_count": 189,
      "outputs": []
    },
    {
      "cell_type": "code",
      "source": [
        "df_train.isnull().sum()"
      ],
      "metadata": {
        "id": "f5ffa186",
        "outputId": "24aebcb1-bab0-4120-ddf9-13f0cea27c66",
        "execution": {
          "iopub.status.busy": "2023-03-05T08:01:28.794817Z",
          "iopub.execute_input": "2023-03-05T08:01:28.795522Z",
          "iopub.status.idle": "2023-03-05T08:01:28.820037Z",
          "shell.execute_reply.started": "2023-03-05T08:01:28.795437Z",
          "shell.execute_reply": "2023-03-05T08:01:28.818253Z"
        },
        "trusted": true,
        "colab": {
          "base_uri": "https://localhost:8080/"
        }
      },
      "execution_count": 190,
      "outputs": [
        {
          "output_type": "execute_result",
          "data": {
            "text/plain": [
              "id        0\n",
              "title     0\n",
              "author    0\n",
              "text      0\n",
              "label     0\n",
              "dtype: int64"
            ]
          },
          "metadata": {},
          "execution_count": 190
        }
      ]
    },
    {
      "cell_type": "code",
      "source": [
        "df_train.info()"
      ],
      "metadata": {
        "id": "7de9f2ba",
        "outputId": "6fa63cfe-9b1a-4491-9969-836fc71622a8",
        "execution": {
          "iopub.status.busy": "2023-03-05T08:02:08.383054Z",
          "iopub.execute_input": "2023-03-05T08:02:08.383540Z",
          "iopub.status.idle": "2023-03-05T08:02:08.410668Z",
          "shell.execute_reply.started": "2023-03-05T08:02:08.383503Z",
          "shell.execute_reply": "2023-03-05T08:02:08.408933Z"
        },
        "trusted": true,
        "colab": {
          "base_uri": "https://localhost:8080/"
        }
      },
      "execution_count": 191,
      "outputs": [
        {
          "output_type": "stream",
          "name": "stdout",
          "text": [
            "<class 'pandas.core.frame.DataFrame'>\n",
            "RangeIndex: 20800 entries, 0 to 20799\n",
            "Data columns (total 5 columns):\n",
            " #   Column  Non-Null Count  Dtype \n",
            "---  ------  --------------  ----- \n",
            " 0   id      20800 non-null  int64 \n",
            " 1   title   20800 non-null  object\n",
            " 2   author  20800 non-null  object\n",
            " 3   text    20800 non-null  object\n",
            " 4   label   20800 non-null  int64 \n",
            "dtypes: int64(2), object(3)\n",
            "memory usage: 812.6+ KB\n"
          ]
        }
      ]
    },
    {
      "cell_type": "code",
      "source": [
        "#removing unwanted columns\n",
        "df_train.drop(columns = 'id',axis=1,inplace=True)"
      ],
      "metadata": {
        "id": "7d236318",
        "execution": {
          "iopub.status.busy": "2023-03-05T08:02:51.804720Z",
          "iopub.execute_input": "2023-03-05T08:02:51.805200Z",
          "iopub.status.idle": "2023-03-05T08:02:51.825446Z",
          "shell.execute_reply.started": "2023-03-05T08:02:51.805162Z",
          "shell.execute_reply": "2023-03-05T08:02:51.823887Z"
        },
        "trusted": true
      },
      "execution_count": 192,
      "outputs": []
    },
    {
      "cell_type": "code",
      "source": [
        "df_train.info()"
      ],
      "metadata": {
        "id": "2ad714d8",
        "outputId": "73711778-3dfc-4b8f-d131-014a9c59df0b",
        "execution": {
          "iopub.status.busy": "2023-03-05T08:02:54.010972Z",
          "iopub.execute_input": "2023-03-05T08:02:54.011436Z",
          "iopub.status.idle": "2023-03-05T08:02:54.036006Z",
          "shell.execute_reply.started": "2023-03-05T08:02:54.011399Z",
          "shell.execute_reply": "2023-03-05T08:02:54.034405Z"
        },
        "trusted": true,
        "colab": {
          "base_uri": "https://localhost:8080/"
        }
      },
      "execution_count": 193,
      "outputs": [
        {
          "output_type": "stream",
          "name": "stdout",
          "text": [
            "<class 'pandas.core.frame.DataFrame'>\n",
            "RangeIndex: 20800 entries, 0 to 20799\n",
            "Data columns (total 4 columns):\n",
            " #   Column  Non-Null Count  Dtype \n",
            "---  ------  --------------  ----- \n",
            " 0   title   20800 non-null  object\n",
            " 1   author  20800 non-null  object\n",
            " 2   text    20800 non-null  object\n",
            " 3   label   20800 non-null  int64 \n",
            "dtypes: int64(1), object(3)\n",
            "memory usage: 650.1+ KB\n"
          ]
        }
      ]
    },
    {
      "cell_type": "code",
      "source": [
        "#merging columns\n",
        "df_train['news']=df_train['author']+':'+df_train['title']"
      ],
      "metadata": {
        "id": "e87e2083",
        "execution": {
          "iopub.status.busy": "2023-03-05T08:03:21.432714Z",
          "iopub.execute_input": "2023-03-05T08:03:21.433260Z",
          "iopub.status.idle": "2023-03-05T08:03:21.457640Z",
          "shell.execute_reply.started": "2023-03-05T08:03:21.433213Z",
          "shell.execute_reply": "2023-03-05T08:03:21.455956Z"
        },
        "trusted": true
      },
      "execution_count": 194,
      "outputs": []
    },
    {
      "cell_type": "code",
      "source": [
        "df_train.head(10)"
      ],
      "metadata": {
        "id": "383c107a",
        "outputId": "8b7f82fd-d73b-4eee-e052-133c3a64b151",
        "execution": {
          "iopub.status.busy": "2023-03-05T08:04:04.990199Z",
          "iopub.execute_input": "2023-03-05T08:04:04.990765Z",
          "iopub.status.idle": "2023-03-05T08:04:05.007709Z",
          "shell.execute_reply.started": "2023-03-05T08:04:04.990724Z",
          "shell.execute_reply": "2023-03-05T08:04:05.006339Z"
        },
        "trusted": true,
        "colab": {
          "base_uri": "https://localhost:8080/",
          "height": 363
        }
      },
      "execution_count": 195,
      "outputs": [
        {
          "output_type": "execute_result",
          "data": {
            "text/plain": [
              "                                               title  \\\n",
              "0  House Dem Aide: We Didn’t Even See Comey’s Let...   \n",
              "1  FLYNN: Hillary Clinton, Big Woman on Campus - ...   \n",
              "2                  Why the Truth Might Get You Fired   \n",
              "3  15 Civilians Killed In Single US Airstrike Hav...   \n",
              "4  Iranian woman jailed for fictional unpublished...   \n",
              "5  Jackie Mason: Hollywood Would Love Trump if He...   \n",
              "6  Life: Life Of Luxury: Elton John’s 6 Favorite ...   \n",
              "7  Benoît Hamon Wins French Socialist Party’s Pre...   \n",
              "8  Excerpts From a Draft Script for Donald Trump’...   \n",
              "9  A Back-Channel Plan for Ukraine and Russia, Co...   \n",
              "\n",
              "                         author  \\\n",
              "0                 Darrell Lucus   \n",
              "1               Daniel J. Flynn   \n",
              "2            Consortiumnews.com   \n",
              "3               Jessica Purkiss   \n",
              "4                Howard Portnoy   \n",
              "5               Daniel Nussbaum   \n",
              "6                                 \n",
              "7               Alissa J. Rubin   \n",
              "8                                 \n",
              "9  Megan Twohey and Scott Shane   \n",
              "\n",
              "                                                text  label  \\\n",
              "0  House Dem Aide: We Didn’t Even See Comey’s Let...      1   \n",
              "1  Ever get the feeling your life circles the rou...      0   \n",
              "2  Why the Truth Might Get You Fired October 29, ...      1   \n",
              "3  Videos 15 Civilians Killed In Single US Airstr...      1   \n",
              "4  Print \\nAn Iranian woman has been sentenced to...      1   \n",
              "5  In these trying times, Jackie Mason is the Voi...      0   \n",
              "6  Ever wonder how Britain’s most iconic pop pian...      1   \n",
              "7  PARIS  —   France chose an idealistic, traditi...      0   \n",
              "8  Donald J. Trump is scheduled to make a highly ...      0   \n",
              "9  A week before Michael T. Flynn resigned as nat...      0   \n",
              "\n",
              "                                                news  \n",
              "0  Darrell Lucus:House Dem Aide: We Didn’t Even S...  \n",
              "1  Daniel J. Flynn:FLYNN: Hillary Clinton, Big Wo...  \n",
              "2  Consortiumnews.com:Why the Truth Might Get You...  \n",
              "3  Jessica Purkiss:15 Civilians Killed In Single ...  \n",
              "4  Howard Portnoy:Iranian woman jailed for fictio...  \n",
              "5  Daniel Nussbaum:Jackie Mason: Hollywood Would ...  \n",
              "6   :Life: Life Of Luxury: Elton John’s 6 Favorit...  \n",
              "7  Alissa J. Rubin:Benoît Hamon Wins French Socia...  \n",
              "8   :Excerpts From a Draft Script for Donald Trum...  \n",
              "9  Megan Twohey and Scott Shane:A Back-Channel Pl...  "
            ],
            "text/html": [
              "\n",
              "  <div id=\"df-180c8067-486f-4827-a96f-344ba748447c\">\n",
              "    <div class=\"colab-df-container\">\n",
              "      <div>\n",
              "<style scoped>\n",
              "    .dataframe tbody tr th:only-of-type {\n",
              "        vertical-align: middle;\n",
              "    }\n",
              "\n",
              "    .dataframe tbody tr th {\n",
              "        vertical-align: top;\n",
              "    }\n",
              "\n",
              "    .dataframe thead th {\n",
              "        text-align: right;\n",
              "    }\n",
              "</style>\n",
              "<table border=\"1\" class=\"dataframe\">\n",
              "  <thead>\n",
              "    <tr style=\"text-align: right;\">\n",
              "      <th></th>\n",
              "      <th>title</th>\n",
              "      <th>author</th>\n",
              "      <th>text</th>\n",
              "      <th>label</th>\n",
              "      <th>news</th>\n",
              "    </tr>\n",
              "  </thead>\n",
              "  <tbody>\n",
              "    <tr>\n",
              "      <th>0</th>\n",
              "      <td>House Dem Aide: We Didn’t Even See Comey’s Let...</td>\n",
              "      <td>Darrell Lucus</td>\n",
              "      <td>House Dem Aide: We Didn’t Even See Comey’s Let...</td>\n",
              "      <td>1</td>\n",
              "      <td>Darrell Lucus:House Dem Aide: We Didn’t Even S...</td>\n",
              "    </tr>\n",
              "    <tr>\n",
              "      <th>1</th>\n",
              "      <td>FLYNN: Hillary Clinton, Big Woman on Campus - ...</td>\n",
              "      <td>Daniel J. Flynn</td>\n",
              "      <td>Ever get the feeling your life circles the rou...</td>\n",
              "      <td>0</td>\n",
              "      <td>Daniel J. Flynn:FLYNN: Hillary Clinton, Big Wo...</td>\n",
              "    </tr>\n",
              "    <tr>\n",
              "      <th>2</th>\n",
              "      <td>Why the Truth Might Get You Fired</td>\n",
              "      <td>Consortiumnews.com</td>\n",
              "      <td>Why the Truth Might Get You Fired October 29, ...</td>\n",
              "      <td>1</td>\n",
              "      <td>Consortiumnews.com:Why the Truth Might Get You...</td>\n",
              "    </tr>\n",
              "    <tr>\n",
              "      <th>3</th>\n",
              "      <td>15 Civilians Killed In Single US Airstrike Hav...</td>\n",
              "      <td>Jessica Purkiss</td>\n",
              "      <td>Videos 15 Civilians Killed In Single US Airstr...</td>\n",
              "      <td>1</td>\n",
              "      <td>Jessica Purkiss:15 Civilians Killed In Single ...</td>\n",
              "    </tr>\n",
              "    <tr>\n",
              "      <th>4</th>\n",
              "      <td>Iranian woman jailed for fictional unpublished...</td>\n",
              "      <td>Howard Portnoy</td>\n",
              "      <td>Print \\nAn Iranian woman has been sentenced to...</td>\n",
              "      <td>1</td>\n",
              "      <td>Howard Portnoy:Iranian woman jailed for fictio...</td>\n",
              "    </tr>\n",
              "    <tr>\n",
              "      <th>5</th>\n",
              "      <td>Jackie Mason: Hollywood Would Love Trump if He...</td>\n",
              "      <td>Daniel Nussbaum</td>\n",
              "      <td>In these trying times, Jackie Mason is the Voi...</td>\n",
              "      <td>0</td>\n",
              "      <td>Daniel Nussbaum:Jackie Mason: Hollywood Would ...</td>\n",
              "    </tr>\n",
              "    <tr>\n",
              "      <th>6</th>\n",
              "      <td>Life: Life Of Luxury: Elton John’s 6 Favorite ...</td>\n",
              "      <td></td>\n",
              "      <td>Ever wonder how Britain’s most iconic pop pian...</td>\n",
              "      <td>1</td>\n",
              "      <td>:Life: Life Of Luxury: Elton John’s 6 Favorit...</td>\n",
              "    </tr>\n",
              "    <tr>\n",
              "      <th>7</th>\n",
              "      <td>Benoît Hamon Wins French Socialist Party’s Pre...</td>\n",
              "      <td>Alissa J. Rubin</td>\n",
              "      <td>PARIS  —   France chose an idealistic, traditi...</td>\n",
              "      <td>0</td>\n",
              "      <td>Alissa J. Rubin:Benoît Hamon Wins French Socia...</td>\n",
              "    </tr>\n",
              "    <tr>\n",
              "      <th>8</th>\n",
              "      <td>Excerpts From a Draft Script for Donald Trump’...</td>\n",
              "      <td></td>\n",
              "      <td>Donald J. Trump is scheduled to make a highly ...</td>\n",
              "      <td>0</td>\n",
              "      <td>:Excerpts From a Draft Script for Donald Trum...</td>\n",
              "    </tr>\n",
              "    <tr>\n",
              "      <th>9</th>\n",
              "      <td>A Back-Channel Plan for Ukraine and Russia, Co...</td>\n",
              "      <td>Megan Twohey and Scott Shane</td>\n",
              "      <td>A week before Michael T. Flynn resigned as nat...</td>\n",
              "      <td>0</td>\n",
              "      <td>Megan Twohey and Scott Shane:A Back-Channel Pl...</td>\n",
              "    </tr>\n",
              "  </tbody>\n",
              "</table>\n",
              "</div>\n",
              "      <button class=\"colab-df-convert\" onclick=\"convertToInteractive('df-180c8067-486f-4827-a96f-344ba748447c')\"\n",
              "              title=\"Convert this dataframe to an interactive table.\"\n",
              "              style=\"display:none;\">\n",
              "        \n",
              "  <svg xmlns=\"http://www.w3.org/2000/svg\" height=\"24px\"viewBox=\"0 0 24 24\"\n",
              "       width=\"24px\">\n",
              "    <path d=\"M0 0h24v24H0V0z\" fill=\"none\"/>\n",
              "    <path d=\"M18.56 5.44l.94 2.06.94-2.06 2.06-.94-2.06-.94-.94-2.06-.94 2.06-2.06.94zm-11 1L8.5 8.5l.94-2.06 2.06-.94-2.06-.94L8.5 2.5l-.94 2.06-2.06.94zm10 10l.94 2.06.94-2.06 2.06-.94-2.06-.94-.94-2.06-.94 2.06-2.06.94z\"/><path d=\"M17.41 7.96l-1.37-1.37c-.4-.4-.92-.59-1.43-.59-.52 0-1.04.2-1.43.59L10.3 9.45l-7.72 7.72c-.78.78-.78 2.05 0 2.83L4 21.41c.39.39.9.59 1.41.59.51 0 1.02-.2 1.41-.59l7.78-7.78 2.81-2.81c.8-.78.8-2.07 0-2.86zM5.41 20L4 18.59l7.72-7.72 1.47 1.35L5.41 20z\"/>\n",
              "  </svg>\n",
              "      </button>\n",
              "      \n",
              "  <style>\n",
              "    .colab-df-container {\n",
              "      display:flex;\n",
              "      flex-wrap:wrap;\n",
              "      gap: 12px;\n",
              "    }\n",
              "\n",
              "    .colab-df-convert {\n",
              "      background-color: #E8F0FE;\n",
              "      border: none;\n",
              "      border-radius: 50%;\n",
              "      cursor: pointer;\n",
              "      display: none;\n",
              "      fill: #1967D2;\n",
              "      height: 32px;\n",
              "      padding: 0 0 0 0;\n",
              "      width: 32px;\n",
              "    }\n",
              "\n",
              "    .colab-df-convert:hover {\n",
              "      background-color: #E2EBFA;\n",
              "      box-shadow: 0px 1px 2px rgba(60, 64, 67, 0.3), 0px 1px 3px 1px rgba(60, 64, 67, 0.15);\n",
              "      fill: #174EA6;\n",
              "    }\n",
              "\n",
              "    [theme=dark] .colab-df-convert {\n",
              "      background-color: #3B4455;\n",
              "      fill: #D2E3FC;\n",
              "    }\n",
              "\n",
              "    [theme=dark] .colab-df-convert:hover {\n",
              "      background-color: #434B5C;\n",
              "      box-shadow: 0px 1px 3px 1px rgba(0, 0, 0, 0.15);\n",
              "      filter: drop-shadow(0px 1px 2px rgba(0, 0, 0, 0.3));\n",
              "      fill: #FFFFFF;\n",
              "    }\n",
              "  </style>\n",
              "\n",
              "      <script>\n",
              "        const buttonEl =\n",
              "          document.querySelector('#df-180c8067-486f-4827-a96f-344ba748447c button.colab-df-convert');\n",
              "        buttonEl.style.display =\n",
              "          google.colab.kernel.accessAllowed ? 'block' : 'none';\n",
              "\n",
              "        async function convertToInteractive(key) {\n",
              "          const element = document.querySelector('#df-180c8067-486f-4827-a96f-344ba748447c');\n",
              "          const dataTable =\n",
              "            await google.colab.kernel.invokeFunction('convertToInteractive',\n",
              "                                                     [key], {});\n",
              "          if (!dataTable) return;\n",
              "\n",
              "          const docLinkHtml = 'Like what you see? Visit the ' +\n",
              "            '<a target=\"_blank\" href=https://colab.research.google.com/notebooks/data_table.ipynb>data table notebook</a>'\n",
              "            + ' to learn more about interactive tables.';\n",
              "          element.innerHTML = '';\n",
              "          dataTable['output_type'] = 'display_data';\n",
              "          await google.colab.output.renderOutput(dataTable, element);\n",
              "          const docLink = document.createElement('div');\n",
              "          docLink.innerHTML = docLinkHtml;\n",
              "          element.appendChild(docLink);\n",
              "        }\n",
              "      </script>\n",
              "    </div>\n",
              "  </div>\n",
              "  "
            ]
          },
          "metadata": {},
          "execution_count": 195
        }
      ]
    },
    {
      "cell_type": "code",
      "source": [
        "df_train.drop(columns = ['text','author'],axis=1,inplace=True)"
      ],
      "metadata": {
        "id": "065587d6",
        "execution": {
          "iopub.status.busy": "2023-03-05T08:05:46.587787Z",
          "iopub.execute_input": "2023-03-05T08:05:46.588266Z",
          "iopub.status.idle": "2023-03-05T08:05:46.608871Z",
          "shell.execute_reply.started": "2023-03-05T08:05:46.588227Z",
          "shell.execute_reply": "2023-03-05T08:05:46.607161Z"
        },
        "trusted": true
      },
      "execution_count": 196,
      "outputs": []
    },
    {
      "cell_type": "code",
      "source": [
        "df_train.head(10)"
      ],
      "metadata": {
        "scrolled": true,
        "id": "3fd7bd94",
        "outputId": "d82cf53d-0d8c-454a-f892-50c9bb626632",
        "execution": {
          "iopub.status.busy": "2023-03-05T08:05:55.545738Z",
          "iopub.execute_input": "2023-03-05T08:05:55.546145Z",
          "iopub.status.idle": "2023-03-05T08:05:55.561016Z",
          "shell.execute_reply.started": "2023-03-05T08:05:55.546112Z",
          "shell.execute_reply": "2023-03-05T08:05:55.559466Z"
        },
        "trusted": true,
        "colab": {
          "base_uri": "https://localhost:8080/",
          "height": 363
        }
      },
      "execution_count": 197,
      "outputs": [
        {
          "output_type": "execute_result",
          "data": {
            "text/plain": [
              "                                               title  label  \\\n",
              "0  House Dem Aide: We Didn’t Even See Comey’s Let...      1   \n",
              "1  FLYNN: Hillary Clinton, Big Woman on Campus - ...      0   \n",
              "2                  Why the Truth Might Get You Fired      1   \n",
              "3  15 Civilians Killed In Single US Airstrike Hav...      1   \n",
              "4  Iranian woman jailed for fictional unpublished...      1   \n",
              "5  Jackie Mason: Hollywood Would Love Trump if He...      0   \n",
              "6  Life: Life Of Luxury: Elton John’s 6 Favorite ...      1   \n",
              "7  Benoît Hamon Wins French Socialist Party’s Pre...      0   \n",
              "8  Excerpts From a Draft Script for Donald Trump’...      0   \n",
              "9  A Back-Channel Plan for Ukraine and Russia, Co...      0   \n",
              "\n",
              "                                                news  \n",
              "0  Darrell Lucus:House Dem Aide: We Didn’t Even S...  \n",
              "1  Daniel J. Flynn:FLYNN: Hillary Clinton, Big Wo...  \n",
              "2  Consortiumnews.com:Why the Truth Might Get You...  \n",
              "3  Jessica Purkiss:15 Civilians Killed In Single ...  \n",
              "4  Howard Portnoy:Iranian woman jailed for fictio...  \n",
              "5  Daniel Nussbaum:Jackie Mason: Hollywood Would ...  \n",
              "6   :Life: Life Of Luxury: Elton John’s 6 Favorit...  \n",
              "7  Alissa J. Rubin:Benoît Hamon Wins French Socia...  \n",
              "8   :Excerpts From a Draft Script for Donald Trum...  \n",
              "9  Megan Twohey and Scott Shane:A Back-Channel Pl...  "
            ],
            "text/html": [
              "\n",
              "  <div id=\"df-30afc568-daf2-4641-957f-d30ac3df764b\">\n",
              "    <div class=\"colab-df-container\">\n",
              "      <div>\n",
              "<style scoped>\n",
              "    .dataframe tbody tr th:only-of-type {\n",
              "        vertical-align: middle;\n",
              "    }\n",
              "\n",
              "    .dataframe tbody tr th {\n",
              "        vertical-align: top;\n",
              "    }\n",
              "\n",
              "    .dataframe thead th {\n",
              "        text-align: right;\n",
              "    }\n",
              "</style>\n",
              "<table border=\"1\" class=\"dataframe\">\n",
              "  <thead>\n",
              "    <tr style=\"text-align: right;\">\n",
              "      <th></th>\n",
              "      <th>title</th>\n",
              "      <th>label</th>\n",
              "      <th>news</th>\n",
              "    </tr>\n",
              "  </thead>\n",
              "  <tbody>\n",
              "    <tr>\n",
              "      <th>0</th>\n",
              "      <td>House Dem Aide: We Didn’t Even See Comey’s Let...</td>\n",
              "      <td>1</td>\n",
              "      <td>Darrell Lucus:House Dem Aide: We Didn’t Even S...</td>\n",
              "    </tr>\n",
              "    <tr>\n",
              "      <th>1</th>\n",
              "      <td>FLYNN: Hillary Clinton, Big Woman on Campus - ...</td>\n",
              "      <td>0</td>\n",
              "      <td>Daniel J. Flynn:FLYNN: Hillary Clinton, Big Wo...</td>\n",
              "    </tr>\n",
              "    <tr>\n",
              "      <th>2</th>\n",
              "      <td>Why the Truth Might Get You Fired</td>\n",
              "      <td>1</td>\n",
              "      <td>Consortiumnews.com:Why the Truth Might Get You...</td>\n",
              "    </tr>\n",
              "    <tr>\n",
              "      <th>3</th>\n",
              "      <td>15 Civilians Killed In Single US Airstrike Hav...</td>\n",
              "      <td>1</td>\n",
              "      <td>Jessica Purkiss:15 Civilians Killed In Single ...</td>\n",
              "    </tr>\n",
              "    <tr>\n",
              "      <th>4</th>\n",
              "      <td>Iranian woman jailed for fictional unpublished...</td>\n",
              "      <td>1</td>\n",
              "      <td>Howard Portnoy:Iranian woman jailed for fictio...</td>\n",
              "    </tr>\n",
              "    <tr>\n",
              "      <th>5</th>\n",
              "      <td>Jackie Mason: Hollywood Would Love Trump if He...</td>\n",
              "      <td>0</td>\n",
              "      <td>Daniel Nussbaum:Jackie Mason: Hollywood Would ...</td>\n",
              "    </tr>\n",
              "    <tr>\n",
              "      <th>6</th>\n",
              "      <td>Life: Life Of Luxury: Elton John’s 6 Favorite ...</td>\n",
              "      <td>1</td>\n",
              "      <td>:Life: Life Of Luxury: Elton John’s 6 Favorit...</td>\n",
              "    </tr>\n",
              "    <tr>\n",
              "      <th>7</th>\n",
              "      <td>Benoît Hamon Wins French Socialist Party’s Pre...</td>\n",
              "      <td>0</td>\n",
              "      <td>Alissa J. Rubin:Benoît Hamon Wins French Socia...</td>\n",
              "    </tr>\n",
              "    <tr>\n",
              "      <th>8</th>\n",
              "      <td>Excerpts From a Draft Script for Donald Trump’...</td>\n",
              "      <td>0</td>\n",
              "      <td>:Excerpts From a Draft Script for Donald Trum...</td>\n",
              "    </tr>\n",
              "    <tr>\n",
              "      <th>9</th>\n",
              "      <td>A Back-Channel Plan for Ukraine and Russia, Co...</td>\n",
              "      <td>0</td>\n",
              "      <td>Megan Twohey and Scott Shane:A Back-Channel Pl...</td>\n",
              "    </tr>\n",
              "  </tbody>\n",
              "</table>\n",
              "</div>\n",
              "      <button class=\"colab-df-convert\" onclick=\"convertToInteractive('df-30afc568-daf2-4641-957f-d30ac3df764b')\"\n",
              "              title=\"Convert this dataframe to an interactive table.\"\n",
              "              style=\"display:none;\">\n",
              "        \n",
              "  <svg xmlns=\"http://www.w3.org/2000/svg\" height=\"24px\"viewBox=\"0 0 24 24\"\n",
              "       width=\"24px\">\n",
              "    <path d=\"M0 0h24v24H0V0z\" fill=\"none\"/>\n",
              "    <path d=\"M18.56 5.44l.94 2.06.94-2.06 2.06-.94-2.06-.94-.94-2.06-.94 2.06-2.06.94zm-11 1L8.5 8.5l.94-2.06 2.06-.94-2.06-.94L8.5 2.5l-.94 2.06-2.06.94zm10 10l.94 2.06.94-2.06 2.06-.94-2.06-.94-.94-2.06-.94 2.06-2.06.94z\"/><path d=\"M17.41 7.96l-1.37-1.37c-.4-.4-.92-.59-1.43-.59-.52 0-1.04.2-1.43.59L10.3 9.45l-7.72 7.72c-.78.78-.78 2.05 0 2.83L4 21.41c.39.39.9.59 1.41.59.51 0 1.02-.2 1.41-.59l7.78-7.78 2.81-2.81c.8-.78.8-2.07 0-2.86zM5.41 20L4 18.59l7.72-7.72 1.47 1.35L5.41 20z\"/>\n",
              "  </svg>\n",
              "      </button>\n",
              "      \n",
              "  <style>\n",
              "    .colab-df-container {\n",
              "      display:flex;\n",
              "      flex-wrap:wrap;\n",
              "      gap: 12px;\n",
              "    }\n",
              "\n",
              "    .colab-df-convert {\n",
              "      background-color: #E8F0FE;\n",
              "      border: none;\n",
              "      border-radius: 50%;\n",
              "      cursor: pointer;\n",
              "      display: none;\n",
              "      fill: #1967D2;\n",
              "      height: 32px;\n",
              "      padding: 0 0 0 0;\n",
              "      width: 32px;\n",
              "    }\n",
              "\n",
              "    .colab-df-convert:hover {\n",
              "      background-color: #E2EBFA;\n",
              "      box-shadow: 0px 1px 2px rgba(60, 64, 67, 0.3), 0px 1px 3px 1px rgba(60, 64, 67, 0.15);\n",
              "      fill: #174EA6;\n",
              "    }\n",
              "\n",
              "    [theme=dark] .colab-df-convert {\n",
              "      background-color: #3B4455;\n",
              "      fill: #D2E3FC;\n",
              "    }\n",
              "\n",
              "    [theme=dark] .colab-df-convert:hover {\n",
              "      background-color: #434B5C;\n",
              "      box-shadow: 0px 1px 3px 1px rgba(0, 0, 0, 0.15);\n",
              "      filter: drop-shadow(0px 1px 2px rgba(0, 0, 0, 0.3));\n",
              "      fill: #FFFFFF;\n",
              "    }\n",
              "  </style>\n",
              "\n",
              "      <script>\n",
              "        const buttonEl =\n",
              "          document.querySelector('#df-30afc568-daf2-4641-957f-d30ac3df764b button.colab-df-convert');\n",
              "        buttonEl.style.display =\n",
              "          google.colab.kernel.accessAllowed ? 'block' : 'none';\n",
              "\n",
              "        async function convertToInteractive(key) {\n",
              "          const element = document.querySelector('#df-30afc568-daf2-4641-957f-d30ac3df764b');\n",
              "          const dataTable =\n",
              "            await google.colab.kernel.invokeFunction('convertToInteractive',\n",
              "                                                     [key], {});\n",
              "          if (!dataTable) return;\n",
              "\n",
              "          const docLinkHtml = 'Like what you see? Visit the ' +\n",
              "            '<a target=\"_blank\" href=https://colab.research.google.com/notebooks/data_table.ipynb>data table notebook</a>'\n",
              "            + ' to learn more about interactive tables.';\n",
              "          element.innerHTML = '';\n",
              "          dataTable['output_type'] = 'display_data';\n",
              "          await google.colab.output.renderOutput(dataTable, element);\n",
              "          const docLink = document.createElement('div');\n",
              "          docLink.innerHTML = docLinkHtml;\n",
              "          element.appendChild(docLink);\n",
              "        }\n",
              "      </script>\n",
              "    </div>\n",
              "  </div>\n",
              "  "
            ]
          },
          "metadata": {},
          "execution_count": 197
        }
      ]
    },
    {
      "cell_type": "code",
      "source": [
        "# Stemming\n",
        "\n",
        "from nltk.stem.porter import PorterStemmer\n"
      ],
      "metadata": {
        "id": "57f1f0a2",
        "execution": {
          "iopub.status.busy": "2023-03-05T08:11:07.233646Z",
          "iopub.execute_input": "2023-03-05T08:11:07.234167Z",
          "iopub.status.idle": "2023-03-05T08:11:07.240356Z",
          "shell.execute_reply.started": "2023-03-05T08:11:07.234124Z",
          "shell.execute_reply": "2023-03-05T08:11:07.238957Z"
        },
        "trusted": true
      },
      "execution_count": 198,
      "outputs": []
    },
    {
      "cell_type": "code",
      "source": [
        "import nltk\n",
        "nltk.download('stopwords')"
      ],
      "metadata": {
        "execution": {
          "iopub.status.busy": "2023-03-05T08:16:57.969282Z",
          "iopub.execute_input": "2023-03-05T08:16:57.969792Z",
          "iopub.status.idle": "2023-03-05T08:17:18.010111Z",
          "shell.execute_reply.started": "2023-03-05T08:16:57.969751Z",
          "shell.execute_reply": "2023-03-05T08:17:18.008747Z"
        },
        "trusted": true,
        "colab": {
          "base_uri": "https://localhost:8080/"
        },
        "id": "8YF3FHp52nUY",
        "outputId": "89c77acc-8c31-496f-eec4-bd4494bb39f2"
      },
      "execution_count": 199,
      "outputs": [
        {
          "output_type": "stream",
          "name": "stderr",
          "text": [
            "[nltk_data] Downloading package stopwords to /root/nltk_data...\n",
            "[nltk_data]   Package stopwords is already up-to-date!\n"
          ]
        },
        {
          "output_type": "execute_result",
          "data": {
            "text/plain": [
              "True"
            ]
          },
          "metadata": {},
          "execution_count": 199
        }
      ]
    },
    {
      "cell_type": "code",
      "source": [
        "'''stemmer = PorterStemmer()'''"
      ],
      "metadata": {
        "id": "8e2ec7e9",
        "colab": {
          "base_uri": "https://localhost:8080/",
          "height": 36
        },
        "outputId": "af687b1f-fb3c-4fcc-e91c-3d048f44f33a"
      },
      "execution_count": 200,
      "outputs": [
        {
          "output_type": "execute_result",
          "data": {
            "text/plain": [
              "'stemmer = PorterStemmer()'"
            ],
            "application/vnd.google.colaboratory.intrinsic+json": {
              "type": "string"
            }
          },
          "metadata": {},
          "execution_count": 200
        }
      ]
    },
    {
      "cell_type": "code",
      "source": [
        "'''def stemming(content):\n",
        "    stemmed_content = re.sub('[^a-zA-Z]',' ',content)\n",
        "    stemmed_content = stemmed_content.lower()\n",
        "    stemmed_content = stemmed_content.split()\n",
        "    stemmed_content = [stemmer.stem(word) for word in stemmed_content if not word in stopwords.words('english')]\n",
        "    stemmed_content = ' '.join(stemmed_content)\n",
        "    return stemmed_content'''"
      ],
      "metadata": {
        "id": "6dca9691",
        "outputId": "9ff34bb8-ea31-42ae-e9a5-52115bc04caf",
        "colab": {
          "base_uri": "https://localhost:8080/",
          "height": 53
        }
      },
      "execution_count": 201,
      "outputs": [
        {
          "output_type": "execute_result",
          "data": {
            "text/plain": [
              "\"def stemming(content):\\n    stemmed_content = re.sub('[^a-zA-Z]',' ',content)\\n    stemmed_content = stemmed_content.lower()\\n    stemmed_content = stemmed_content.split()\\n    stemmed_content = [stemmer.stem(word) for word in stemmed_content if not word in stopwords.words('english')]\\n    stemmed_content = ' '.join(stemmed_content)\\n    return stemmed_content\""
            ],
            "application/vnd.google.colaboratory.intrinsic+json": {
              "type": "string"
            }
          },
          "metadata": {},
          "execution_count": 201
        }
      ]
    },
    {
      "cell_type": "code",
      "source": [
        "'''df_train['news'] = df_train['news'].apply(stemming)'''"
      ],
      "metadata": {
        "id": "42b4193a",
        "outputId": "46a3f4af-7cc0-420c-a788-b5d26ca8a761",
        "colab": {
          "base_uri": "https://localhost:8080/",
          "height": 36
        }
      },
      "execution_count": 202,
      "outputs": [
        {
          "output_type": "execute_result",
          "data": {
            "text/plain": [
              "\"df_train['news'] = df_train['news'].apply(stemming)\""
            ],
            "application/vnd.google.colaboratory.intrinsic+json": {
              "type": "string"
            }
          },
          "metadata": {},
          "execution_count": 202
        }
      ]
    },
    {
      "cell_type": "code",
      "source": [
        "X = df_train['news'].values\n",
        "Y = df_train['label'].values"
      ],
      "metadata": {
        "id": "3864bf64"
      },
      "execution_count": 203,
      "outputs": []
    },
    {
      "cell_type": "code",
      "source": [
        "type(df_train['news'].values)"
      ],
      "metadata": {
        "id": "VrJ9QgqDNUIz",
        "outputId": "0ff5e325-9dfc-46ae-874a-a278fb9ecd98",
        "colab": {
          "base_uri": "https://localhost:8080/"
        }
      },
      "execution_count": 204,
      "outputs": [
        {
          "output_type": "execute_result",
          "data": {
            "text/plain": [
              "numpy.ndarray"
            ]
          },
          "metadata": {},
          "execution_count": 204
        }
      ]
    },
    {
      "cell_type": "code",
      "source": [
        "print(X)"
      ],
      "metadata": {
        "id": "aac7f603",
        "outputId": "175ee158-3e9f-449f-baf3-b2b2e0260c27",
        "colab": {
          "base_uri": "https://localhost:8080/"
        }
      },
      "execution_count": 205,
      "outputs": [
        {
          "output_type": "stream",
          "name": "stdout",
          "text": [
            "['Darrell Lucus:House Dem Aide: We Didn’t Even See Comey’s Letter Until Jason Chaffetz Tweeted It'\n",
            " 'Daniel J. Flynn:FLYNN: Hillary Clinton, Big Woman on Campus - Breitbart'\n",
            " 'Consortiumnews.com:Why the Truth Might Get You Fired' ...\n",
            " 'Michael J. de la Merced and Rachel Abrams:Macy’s Is Said to Receive Takeover Approach by Hudson’s Bay - The New York Times'\n",
            " 'Alex Ansary:NATO, Russia To Hold Parallel Exercises In Balkans'\n",
            " 'David Swanson:What Keeps the F-35 Alive']\n"
          ]
        }
      ]
    },
    {
      "cell_type": "code",
      "source": [
        "print(Y)"
      ],
      "metadata": {
        "id": "d11f966d",
        "outputId": "009340e1-6fb7-4931-dca9-8aa80f54da44",
        "colab": {
          "base_uri": "https://localhost:8080/"
        }
      },
      "execution_count": 206,
      "outputs": [
        {
          "output_type": "stream",
          "name": "stdout",
          "text": [
            "[1 0 1 ... 0 1 1]\n"
          ]
        }
      ]
    },
    {
      "cell_type": "code",
      "source": [
        "X.shape"
      ],
      "metadata": {
        "id": "77dc539d",
        "outputId": "f0eb1e72-103d-4f56-99d3-74c29ce2400a",
        "colab": {
          "base_uri": "https://localhost:8080/"
        }
      },
      "execution_count": 207,
      "outputs": [
        {
          "output_type": "execute_result",
          "data": {
            "text/plain": [
              "(20800,)"
            ]
          },
          "metadata": {},
          "execution_count": 207
        }
      ]
    },
    {
      "cell_type": "code",
      "source": [
        "Y.shape"
      ],
      "metadata": {
        "id": "66f9a500",
        "outputId": "d2d855b1-9c25-4d71-cf18-3a64ad1653a3",
        "colab": {
          "base_uri": "https://localhost:8080/"
        }
      },
      "execution_count": 208,
      "outputs": [
        {
          "output_type": "execute_result",
          "data": {
            "text/plain": [
              "(20800,)"
            ]
          },
          "metadata": {},
          "execution_count": 208
        }
      ]
    },
    {
      "cell_type": "code",
      "source": [
        "'''from nltk.stem.wordnet import WordNetLemmatizer\n",
        "lemmatizer = WordNetLemmatizer()\n",
        "lem_sent = [lemmatizer.lemmatize(words_sent) for words_sent in sent]\n",
        "print(lem_sent)'''"
      ],
      "metadata": {
        "id": "q55R8urTE1pp",
        "colab": {
          "base_uri": "https://localhost:8080/",
          "height": 36
        },
        "outputId": "6794e8eb-c8a7-4be1-f30f-fcee1c5aa614"
      },
      "execution_count": 209,
      "outputs": [
        {
          "output_type": "execute_result",
          "data": {
            "text/plain": [
              "'from nltk.stem.wordnet import WordNetLemmatizer\\nlemmatizer = WordNetLemmatizer()\\nlem_sent = [lemmatizer.lemmatize(words_sent) for words_sent in sent]\\nprint(lem_sent)'"
            ],
            "application/vnd.google.colaboratory.intrinsic+json": {
              "type": "string"
            }
          },
          "metadata": {},
          "execution_count": 209
        }
      ]
    },
    {
      "cell_type": "code",
      "source": [
        "'''#vectorising\n",
        "from sklearn.feature_extraction.text import TfidfVectorizer\n",
        "vectorizer=TfidfVectorizer()\n",
        "vectorizer.fit(X)'''"
      ],
      "metadata": {
        "id": "iLfoun8ABGRZ",
        "colab": {
          "base_uri": "https://localhost:8080/",
          "height": 36
        },
        "outputId": "6eb4dcb0-1649-473f-dbe6-0c1f050e09a1"
      },
      "execution_count": 210,
      "outputs": [
        {
          "output_type": "execute_result",
          "data": {
            "text/plain": [
              "'#vectorising\\nfrom sklearn.feature_extraction.text import TfidfVectorizer\\nvectorizer=TfidfVectorizer()\\nvectorizer.fit(X)'"
            ],
            "application/vnd.google.colaboratory.intrinsic+json": {
              "type": "string"
            }
          },
          "metadata": {},
          "execution_count": 210
        }
      ]
    },
    {
      "cell_type": "code",
      "source": [
        "from sklearn.feature_extraction.text import CountVectorizer\n",
        "vectorizer = CountVectorizer()\n",
        "\n",
        "vectorizer.fit(X)"
      ],
      "metadata": {
        "id": "q3zMbwOd80Zz",
        "outputId": "12eff49b-9426-4a54-b4e3-fe604f34c1b5",
        "colab": {
          "base_uri": "https://localhost:8080/",
          "height": 74
        }
      },
      "execution_count": 211,
      "outputs": [
        {
          "output_type": "execute_result",
          "data": {
            "text/plain": [
              "CountVectorizer()"
            ],
            "text/html": [
              "<style>#sk-container-id-4 {color: black;background-color: white;}#sk-container-id-4 pre{padding: 0;}#sk-container-id-4 div.sk-toggleable {background-color: white;}#sk-container-id-4 label.sk-toggleable__label {cursor: pointer;display: block;width: 100%;margin-bottom: 0;padding: 0.3em;box-sizing: border-box;text-align: center;}#sk-container-id-4 label.sk-toggleable__label-arrow:before {content: \"▸\";float: left;margin-right: 0.25em;color: #696969;}#sk-container-id-4 label.sk-toggleable__label-arrow:hover:before {color: black;}#sk-container-id-4 div.sk-estimator:hover label.sk-toggleable__label-arrow:before {color: black;}#sk-container-id-4 div.sk-toggleable__content {max-height: 0;max-width: 0;overflow: hidden;text-align: left;background-color: #f0f8ff;}#sk-container-id-4 div.sk-toggleable__content pre {margin: 0.2em;color: black;border-radius: 0.25em;background-color: #f0f8ff;}#sk-container-id-4 input.sk-toggleable__control:checked~div.sk-toggleable__content {max-height: 200px;max-width: 100%;overflow: auto;}#sk-container-id-4 input.sk-toggleable__control:checked~label.sk-toggleable__label-arrow:before {content: \"▾\";}#sk-container-id-4 div.sk-estimator input.sk-toggleable__control:checked~label.sk-toggleable__label {background-color: #d4ebff;}#sk-container-id-4 div.sk-label input.sk-toggleable__control:checked~label.sk-toggleable__label {background-color: #d4ebff;}#sk-container-id-4 input.sk-hidden--visually {border: 0;clip: rect(1px 1px 1px 1px);clip: rect(1px, 1px, 1px, 1px);height: 1px;margin: -1px;overflow: hidden;padding: 0;position: absolute;width: 1px;}#sk-container-id-4 div.sk-estimator {font-family: monospace;background-color: #f0f8ff;border: 1px dotted black;border-radius: 0.25em;box-sizing: border-box;margin-bottom: 0.5em;}#sk-container-id-4 div.sk-estimator:hover {background-color: #d4ebff;}#sk-container-id-4 div.sk-parallel-item::after {content: \"\";width: 100%;border-bottom: 1px solid gray;flex-grow: 1;}#sk-container-id-4 div.sk-label:hover label.sk-toggleable__label {background-color: #d4ebff;}#sk-container-id-4 div.sk-serial::before {content: \"\";position: absolute;border-left: 1px solid gray;box-sizing: border-box;top: 0;bottom: 0;left: 50%;z-index: 0;}#sk-container-id-4 div.sk-serial {display: flex;flex-direction: column;align-items: center;background-color: white;padding-right: 0.2em;padding-left: 0.2em;position: relative;}#sk-container-id-4 div.sk-item {position: relative;z-index: 1;}#sk-container-id-4 div.sk-parallel {display: flex;align-items: stretch;justify-content: center;background-color: white;position: relative;}#sk-container-id-4 div.sk-item::before, #sk-container-id-4 div.sk-parallel-item::before {content: \"\";position: absolute;border-left: 1px solid gray;box-sizing: border-box;top: 0;bottom: 0;left: 50%;z-index: -1;}#sk-container-id-4 div.sk-parallel-item {display: flex;flex-direction: column;z-index: 1;position: relative;background-color: white;}#sk-container-id-4 div.sk-parallel-item:first-child::after {align-self: flex-end;width: 50%;}#sk-container-id-4 div.sk-parallel-item:last-child::after {align-self: flex-start;width: 50%;}#sk-container-id-4 div.sk-parallel-item:only-child::after {width: 0;}#sk-container-id-4 div.sk-dashed-wrapped {border: 1px dashed gray;margin: 0 0.4em 0.5em 0.4em;box-sizing: border-box;padding-bottom: 0.4em;background-color: white;}#sk-container-id-4 div.sk-label label {font-family: monospace;font-weight: bold;display: inline-block;line-height: 1.2em;}#sk-container-id-4 div.sk-label-container {text-align: center;}#sk-container-id-4 div.sk-container {/* jupyter's `normalize.less` sets `[hidden] { display: none; }` but bootstrap.min.css set `[hidden] { display: none !important; }` so we also need the `!important` here to be able to override the default hidden behavior on the sphinx rendered scikit-learn.org. See: https://github.com/scikit-learn/scikit-learn/issues/21755 */display: inline-block !important;position: relative;}#sk-container-id-4 div.sk-text-repr-fallback {display: none;}</style><div id=\"sk-container-id-4\" class=\"sk-top-container\"><div class=\"sk-text-repr-fallback\"><pre>CountVectorizer()</pre><b>In a Jupyter environment, please rerun this cell to show the HTML representation or trust the notebook. <br />On GitHub, the HTML representation is unable to render, please try loading this page with nbviewer.org.</b></div><div class=\"sk-container\" hidden><div class=\"sk-item\"><div class=\"sk-estimator sk-toggleable\"><input class=\"sk-toggleable__control sk-hidden--visually\" id=\"sk-estimator-id-4\" type=\"checkbox\" checked><label for=\"sk-estimator-id-4\" class=\"sk-toggleable__label sk-toggleable__label-arrow\">CountVectorizer</label><div class=\"sk-toggleable__content\"><pre>CountVectorizer()</pre></div></div></div></div></div>"
            ]
          },
          "metadata": {},
          "execution_count": 211
        }
      ]
    },
    {
      "cell_type": "code",
      "source": [
        "type(X)"
      ],
      "metadata": {
        "id": "wdzNZllFNIoM",
        "outputId": "8f653443-65ce-422a-e7b7-b16b09623651",
        "colab": {
          "base_uri": "https://localhost:8080/"
        }
      },
      "execution_count": 212,
      "outputs": [
        {
          "output_type": "execute_result",
          "data": {
            "text/plain": [
              "numpy.ndarray"
            ]
          },
          "metadata": {},
          "execution_count": 212
        }
      ]
    },
    {
      "cell_type": "code",
      "source": [
        "X=vectorizer.transform(X)"
      ],
      "metadata": {
        "id": "rjJ9L53CBGZV"
      },
      "execution_count": 213,
      "outputs": []
    },
    {
      "cell_type": "code",
      "source": [
        "print(X)"
      ],
      "metadata": {
        "id": "QCvfvOHbBGcr",
        "outputId": "c7296001-b38f-416e-f6c6-7231ace61229",
        "colab": {
          "base_uri": "https://localhost:8080/"
        }
      },
      "execution_count": 214,
      "outputs": [
        {
          "output_type": "stream",
          "name": "stdout",
          "text": [
            "  (0, 904)\t1\n",
            "  (0, 3862)\t1\n",
            "  (0, 4507)\t1\n",
            "  (0, 5508)\t1\n",
            "  (0, 5800)\t1\n",
            "  (0, 6145)\t1\n",
            "  (0, 7574)\t1\n",
            "  (0, 10387)\t1\n",
            "  (0, 11307)\t1\n",
            "  (0, 11409)\t1\n",
            "  (0, 12528)\t1\n",
            "  (0, 12902)\t1\n",
            "  (0, 19171)\t1\n",
            "  (0, 22289)\t1\n",
            "  (0, 22649)\t1\n",
            "  (0, 23355)\t1\n",
            "  (1, 2544)\t1\n",
            "  (1, 3075)\t1\n",
            "  (1, 3509)\t1\n",
            "  (1, 4298)\t1\n",
            "  (1, 5469)\t1\n",
            "  (1, 8420)\t2\n",
            "  (1, 10134)\t1\n",
            "  (1, 15149)\t1\n",
            "  (1, 23748)\t1\n",
            "  :\t:\n",
            "  (20797, 17253)\t1\n",
            "  (20797, 17550)\t1\n",
            "  (20797, 18720)\t1\n",
            "  (20797, 21266)\t1\n",
            "  (20797, 21564)\t1\n",
            "  (20797, 21736)\t1\n",
            "  (20797, 21775)\t1\n",
            "  (20797, 23989)\t1\n",
            "  (20798, 1009)\t1\n",
            "  (20798, 1324)\t1\n",
            "  (20798, 2068)\t1\n",
            "  (20798, 7676)\t1\n",
            "  (20798, 10228)\t1\n",
            "  (20798, 10764)\t1\n",
            "  (20798, 14500)\t1\n",
            "  (20798, 15626)\t1\n",
            "  (20798, 18626)\t1\n",
            "  (20798, 21775)\t1\n",
            "  (20799, 270)\t1\n",
            "  (20799, 1043)\t1\n",
            "  (20799, 5537)\t1\n",
            "  (20799, 11815)\t1\n",
            "  (20799, 21101)\t1\n",
            "  (20799, 21564)\t1\n",
            "  (20799, 23493)\t1\n"
          ]
        }
      ]
    },
    {
      "cell_type": "code",
      "source": [
        "#splitting the data to train and test\n",
        "from sklearn.model_selection import train_test_split\n",
        "X_train,X_test,Y_train,Y_test=train_test_split(X,Y,test_size=0.2)"
      ],
      "metadata": {
        "id": "PmmfYnbBBGfn"
      },
      "execution_count": 215,
      "outputs": []
    },
    {
      "cell_type": "code",
      "source": [
        "#model - logistic regression\n",
        "from sklearn.linear_model import LogisticRegression\n",
        "regressor=LogisticRegression()\n",
        "regressor.fit(X_train,Y_train)"
      ],
      "metadata": {
        "id": "wCilqHIcBGi8",
        "outputId": "74b8ad1c-db1e-4853-c6d8-f3c3172aa82c",
        "colab": {
          "base_uri": "https://localhost:8080/",
          "height": 74
        }
      },
      "execution_count": 216,
      "outputs": [
        {
          "output_type": "execute_result",
          "data": {
            "text/plain": [
              "LogisticRegression()"
            ],
            "text/html": [
              "<style>#sk-container-id-5 {color: black;background-color: white;}#sk-container-id-5 pre{padding: 0;}#sk-container-id-5 div.sk-toggleable {background-color: white;}#sk-container-id-5 label.sk-toggleable__label {cursor: pointer;display: block;width: 100%;margin-bottom: 0;padding: 0.3em;box-sizing: border-box;text-align: center;}#sk-container-id-5 label.sk-toggleable__label-arrow:before {content: \"▸\";float: left;margin-right: 0.25em;color: #696969;}#sk-container-id-5 label.sk-toggleable__label-arrow:hover:before {color: black;}#sk-container-id-5 div.sk-estimator:hover label.sk-toggleable__label-arrow:before {color: black;}#sk-container-id-5 div.sk-toggleable__content {max-height: 0;max-width: 0;overflow: hidden;text-align: left;background-color: #f0f8ff;}#sk-container-id-5 div.sk-toggleable__content pre {margin: 0.2em;color: black;border-radius: 0.25em;background-color: #f0f8ff;}#sk-container-id-5 input.sk-toggleable__control:checked~div.sk-toggleable__content {max-height: 200px;max-width: 100%;overflow: auto;}#sk-container-id-5 input.sk-toggleable__control:checked~label.sk-toggleable__label-arrow:before {content: \"▾\";}#sk-container-id-5 div.sk-estimator input.sk-toggleable__control:checked~label.sk-toggleable__label {background-color: #d4ebff;}#sk-container-id-5 div.sk-label input.sk-toggleable__control:checked~label.sk-toggleable__label {background-color: #d4ebff;}#sk-container-id-5 input.sk-hidden--visually {border: 0;clip: rect(1px 1px 1px 1px);clip: rect(1px, 1px, 1px, 1px);height: 1px;margin: -1px;overflow: hidden;padding: 0;position: absolute;width: 1px;}#sk-container-id-5 div.sk-estimator {font-family: monospace;background-color: #f0f8ff;border: 1px dotted black;border-radius: 0.25em;box-sizing: border-box;margin-bottom: 0.5em;}#sk-container-id-5 div.sk-estimator:hover {background-color: #d4ebff;}#sk-container-id-5 div.sk-parallel-item::after {content: \"\";width: 100%;border-bottom: 1px solid gray;flex-grow: 1;}#sk-container-id-5 div.sk-label:hover label.sk-toggleable__label {background-color: #d4ebff;}#sk-container-id-5 div.sk-serial::before {content: \"\";position: absolute;border-left: 1px solid gray;box-sizing: border-box;top: 0;bottom: 0;left: 50%;z-index: 0;}#sk-container-id-5 div.sk-serial {display: flex;flex-direction: column;align-items: center;background-color: white;padding-right: 0.2em;padding-left: 0.2em;position: relative;}#sk-container-id-5 div.sk-item {position: relative;z-index: 1;}#sk-container-id-5 div.sk-parallel {display: flex;align-items: stretch;justify-content: center;background-color: white;position: relative;}#sk-container-id-5 div.sk-item::before, #sk-container-id-5 div.sk-parallel-item::before {content: \"\";position: absolute;border-left: 1px solid gray;box-sizing: border-box;top: 0;bottom: 0;left: 50%;z-index: -1;}#sk-container-id-5 div.sk-parallel-item {display: flex;flex-direction: column;z-index: 1;position: relative;background-color: white;}#sk-container-id-5 div.sk-parallel-item:first-child::after {align-self: flex-end;width: 50%;}#sk-container-id-5 div.sk-parallel-item:last-child::after {align-self: flex-start;width: 50%;}#sk-container-id-5 div.sk-parallel-item:only-child::after {width: 0;}#sk-container-id-5 div.sk-dashed-wrapped {border: 1px dashed gray;margin: 0 0.4em 0.5em 0.4em;box-sizing: border-box;padding-bottom: 0.4em;background-color: white;}#sk-container-id-5 div.sk-label label {font-family: monospace;font-weight: bold;display: inline-block;line-height: 1.2em;}#sk-container-id-5 div.sk-label-container {text-align: center;}#sk-container-id-5 div.sk-container {/* jupyter's `normalize.less` sets `[hidden] { display: none; }` but bootstrap.min.css set `[hidden] { display: none !important; }` so we also need the `!important` here to be able to override the default hidden behavior on the sphinx rendered scikit-learn.org. See: https://github.com/scikit-learn/scikit-learn/issues/21755 */display: inline-block !important;position: relative;}#sk-container-id-5 div.sk-text-repr-fallback {display: none;}</style><div id=\"sk-container-id-5\" class=\"sk-top-container\"><div class=\"sk-text-repr-fallback\"><pre>LogisticRegression()</pre><b>In a Jupyter environment, please rerun this cell to show the HTML representation or trust the notebook. <br />On GitHub, the HTML representation is unable to render, please try loading this page with nbviewer.org.</b></div><div class=\"sk-container\" hidden><div class=\"sk-item\"><div class=\"sk-estimator sk-toggleable\"><input class=\"sk-toggleable__control sk-hidden--visually\" id=\"sk-estimator-id-5\" type=\"checkbox\" checked><label for=\"sk-estimator-id-5\" class=\"sk-toggleable__label sk-toggleable__label-arrow\">LogisticRegression</label><div class=\"sk-toggleable__content\"><pre>LogisticRegression()</pre></div></div></div></div></div>"
            ]
          },
          "metadata": {},
          "execution_count": 216
        }
      ]
    },
    {
      "cell_type": "code",
      "source": [
        "lr_predict=regressor.predict(X_test)"
      ],
      "metadata": {
        "id": "pdXTcMw3BGl1"
      },
      "execution_count": 217,
      "outputs": []
    },
    {
      "cell_type": "code",
      "source": [
        "regressor.score(X_test,Y_test)"
      ],
      "metadata": {
        "id": "ZO5NUhqMBGov",
        "outputId": "e500a3ae-00e9-445e-ef15-285ae8457d1c",
        "colab": {
          "base_uri": "https://localhost:8080/"
        }
      },
      "execution_count": 218,
      "outputs": [
        {
          "output_type": "execute_result",
          "data": {
            "text/plain": [
              "0.9908653846153846"
            ]
          },
          "metadata": {},
          "execution_count": 218
        }
      ]
    },
    {
      "cell_type": "code",
      "source": [
        "from sklearn.metrics import accuracy_score\n",
        "from sklearn.metrics import confusion_matrix"
      ],
      "metadata": {
        "id": "8Lkh8zmbBGrz"
      },
      "execution_count": 219,
      "outputs": []
    },
    {
      "cell_type": "code",
      "source": [
        "accuracy=accuracy_score(lr_predict,Y_test)"
      ],
      "metadata": {
        "id": "s9FxY1AABGvO"
      },
      "execution_count": 220,
      "outputs": []
    },
    {
      "cell_type": "code",
      "source": [
        "accuracy\n"
      ],
      "metadata": {
        "id": "5-p4AEooBGyT",
        "outputId": "4b77c6ab-1e9d-4621-98a6-5bf91e5f3426",
        "colab": {
          "base_uri": "https://localhost:8080/"
        }
      },
      "execution_count": 221,
      "outputs": [
        {
          "output_type": "execute_result",
          "data": {
            "text/plain": [
              "0.9908653846153846"
            ]
          },
          "metadata": {},
          "execution_count": 221
        }
      ]
    },
    {
      "cell_type": "code",
      "source": [
        "print(confusion_matrix(Y_test,lr_predict))"
      ],
      "metadata": {
        "id": "goURj_1VBG15",
        "outputId": "06827c2d-a44f-4061-f07d-4ebc282cd141",
        "colab": {
          "base_uri": "https://localhost:8080/"
        }
      },
      "execution_count": 222,
      "outputs": [
        {
          "output_type": "stream",
          "name": "stdout",
          "text": [
            "[[2056   29]\n",
            " [   9 2066]]\n"
          ]
        }
      ]
    },
    {
      "cell_type": "code",
      "source": [
        "X_new = X_test[150]\n",
        "\n",
        "\n",
        "prediction = regressor.predict(X_new)\n",
        "print(prediction)\n",
        "\n",
        "if (prediction[0]==0):\n",
        "  print('The news is Real')\n",
        "else:\n",
        "  print('The news is Fake')\n"
      ],
      "metadata": {
        "id": "Zdqh839VsGPD",
        "outputId": "5ccf52aa-5456-44b4-cac1-8c8c3eea7eb8",
        "colab": {
          "base_uri": "https://localhost:8080/"
        }
      },
      "execution_count": 240,
      "outputs": [
        {
          "output_type": "stream",
          "name": "stdout",
          "text": [
            "[1]\n",
            "The news is Fake\n"
          ]
        }
      ]
    },
    {
      "cell_type": "code",
      "source": [
        "#save the model\n",
        "import pickle"
      ],
      "metadata": {
        "id": "IYHp-Dn-Rn8i"
      },
      "execution_count": 224,
      "outputs": []
    },
    {
      "cell_type": "code",
      "source": [
        "filename='trained_model.sav'\n",
        "pickle.dump(regressor,open(filename,'wb'))"
      ],
      "metadata": {
        "id": "Ilu4qkzMXp6o"
      },
      "execution_count": 225,
      "outputs": []
    },
    {
      "cell_type": "code",
      "source": [
        "loaded_model=pickle.load(open('trained_model.sav','rb'))"
      ],
      "metadata": {
        "id": "nhjH5PW7YlSt"
      },
      "execution_count": 226,
      "outputs": []
    },
    {
      "cell_type": "code",
      "source": [
        "X_new = X_test[150]\n",
        "print(type(X_new))\n",
        "prediction = regressor.predict(X_new)\n",
        "print(prediction)\n",
        "\n",
        "if (prediction[0]==0):\n",
        "  print('The news is Real')\n",
        "else:\n",
        "  print('The news is Fake')"
      ],
      "metadata": {
        "id": "hEpUujWHZRkG",
        "outputId": "2d9c9535-ca07-4b96-d23e-2157674f3626",
        "colab": {
          "base_uri": "https://localhost:8080/"
        }
      },
      "execution_count": 227,
      "outputs": [
        {
          "output_type": "stream",
          "name": "stdout",
          "text": [
            "<class 'scipy.sparse._csr.csr_matrix'>\n",
            "[1]\n",
            "The news is Fake\n"
          ]
        }
      ]
    },
    {
      "cell_type": "code",
      "source": [
        "X_new=['Biden, a Democrat from Delaware who previously served as vice president under Barack Obama, took office following his victory in the 2020 presidential election over Republican incumbent president Donald Trump. Upon his inauguration, he became the oldest president in American history.']"
      ],
      "metadata": {
        "id": "9rjEACTp0_JC"
      },
      "execution_count": 228,
      "outputs": []
    },
    {
      "cell_type": "code",
      "source": [
        "type(X_new)"
      ],
      "metadata": {
        "id": "654yyF2cQJ4f",
        "outputId": "229b40b8-56bc-4a9b-a4e5-1f5b473f3929",
        "colab": {
          "base_uri": "https://localhost:8080/"
        }
      },
      "execution_count": 229,
      "outputs": [
        {
          "output_type": "execute_result",
          "data": {
            "text/plain": [
              "list"
            ]
          },
          "metadata": {},
          "execution_count": 229
        }
      ]
    },
    {
      "cell_type": "code",
      "source": [
        "\n",
        "X_new=vectorizer.transform(X_new)\n",
        "type(X_new)"
      ],
      "metadata": {
        "id": "cunjsq9G1EK3",
        "outputId": "29834f98-e4bf-41d1-9db8-55e9568d2211",
        "colab": {
          "base_uri": "https://localhost:8080/"
        }
      },
      "execution_count": 230,
      "outputs": [
        {
          "output_type": "execute_result",
          "data": {
            "text/plain": [
              "scipy.sparse._csr.csr_matrix"
            ]
          },
          "metadata": {},
          "execution_count": 230
        }
      ]
    },
    {
      "cell_type": "code",
      "source": [
        "prediction = regressor.predict(X_new)"
      ],
      "metadata": {
        "id": "HUwLi5YEQSly"
      },
      "execution_count": 231,
      "outputs": []
    },
    {
      "cell_type": "code",
      "source": [
        "if (prediction[0]==0):\n",
        "  print('The news is Real')\n",
        "else:\n",
        "  print('The news is Fake')"
      ],
      "metadata": {
        "id": "PEQ7Mn0T3gVB",
        "outputId": "f360bd07-0cbb-4ecb-a199-bec387904445",
        "colab": {
          "base_uri": "https://localhost:8080/"
        }
      },
      "execution_count": 232,
      "outputs": [
        {
          "output_type": "stream",
          "name": "stdout",
          "text": [
            "The news is Real\n"
          ]
        }
      ]
    },
    {
      "cell_type": "code",
      "source": [
        "fake_test =\"Massachusetts Cop’s Wife Busted for Pinning Fake Home-Invasion Robbery on Black Lives Matter Source: PINAC The wife of a Massachusetts cop is facing charges for filing a false police report after she concocted a story about thieves ransacking her home, stealing $10,000 in jewelry and then spray-painting her house with Black Lives Matter to pin it on black people. Maria Daly, wife of Millbury K-9 cop Daniel Daly, took to social media about her dreamt-up victimization after she filed a police report on October 17. “We woke up to not only our house being robbed while we were sleeping, but to see this hatred for no reason,” she posted, according to the Boston Herald. “ If you would of [sic] asked me yesterday about this blue lives and black lives matter issue my response would of [sic] been very positive [sic],” the now private Facebook account alleged. “Today on the other hand I have so much anger and hate that I don’t like myself. This is what we have to deal with these days and it makes me sick that this is what was on the side of my house.” Maria Daly called police to report someone had robbed her home while she was sleeping and then spray-painted her home with BLM for Black Lives Matter then posted about it on social media. Millbury Police Chief Donald Desourcy told the Herald that Daly called police to report an early morning break-in October 17, claiming someone had made off with thousands of dollars worth of valuables and spray-painting “BLM” on the outside of her house. But Chief Desourcy stated that as the investigation unfolded, something didn’t feel “quite right” and Daly ended up admitting she fabricated the whole thing, telling the officers her valuables had already been recovered. “It was pretty obvious. The officers did their due diligence and followed through with the investigation that we had,” he told CBS Boston . “We came to the conclusion it was all fabricated. There was no intruder, there was no burglary.” The chief said the hoax was likely motivated by the couple’s financial troubles and that he has empathy for the family. “I’m very familiar with her and it’s an unfortunate set of circumstances that have taken place.” Daly’s neighbors said it wasn’t a very smart thing to do for a woman who is married to a cop. “She must have tagged the place herself,” said one neighbor. “I don’t know why you’d do that, if you’re gonna stage a robbery, I mean really come on, you’re a cop’s wife. You should know better.” In addition to charges for filing a false police report, Daly also faces a charge for misleading a police investigation. Her cases will be heard at Worcester District Court after she is summoned. Daly’s husband, Daniel Daly was not involved or charged in relation to the hoax, according to police. Share This Article...\"\n",
        "inp = vectorizer.transform([fake_test])\n",
        "\n",
        "prediction = regressor.predict(inp)\n",
        "\n",
        "if (prediction[0]==0):\n",
        "  print('The news is Real')\n",
        "else:\n",
        "  print('The news is Fake')"
      ],
      "metadata": {
        "colab": {
          "base_uri": "https://localhost:8080/"
        },
        "id": "RoNR51Q3bdQl",
        "outputId": "4ef62e86-5821-41cb-86cb-c305803541cf"
      },
      "execution_count": 242,
      "outputs": [
        {
          "output_type": "stream",
          "name": "stdout",
          "text": [
            "The news is Fake\n"
          ]
        }
      ]
    }
  ]
}